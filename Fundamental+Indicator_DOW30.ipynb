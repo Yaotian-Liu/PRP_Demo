{
 "cells": [
  {
   "cell_type": "code",
   "execution_count": 1,
   "metadata": {},
   "outputs": [
    {
     "name": "stderr",
     "output_type": "stream",
     "text": [
      "/home/henry/miniconda3/envs/finrl/lib/python3.7/site-packages/pyfolio/pos.py:27: UserWarning: Module \"zipline.assets\" not found; multipliers will not be applied to position notionals.\n",
      "  'Module \"zipline.assets\" not found; multipliers will not be applied'\n"
     ]
    }
   ],
   "source": [
    "import pandas as pd\n",
    "import numpy as np\n",
    "import matplotlib\n",
    "import matplotlib.pyplot as plt\n",
    "# matplotlib.use('Agg')\n",
    "import datetime\n",
    "import itertools\n",
    "\n",
    "%matplotlib inline\n",
    "from finrl import config\n",
    "from finrl import config_tickers\n",
    "from finrl.finrl_meta.preprocessor.yahoodownloader import YahooDownloader\n",
    "from finrl.finrl_meta.preprocessor.preprocessors import FeatureEngineer, data_split\n",
    "from finrl.finrl_meta.env_stock_trading.env_stocktrading import StockTradingEnv\n",
    "from finrl.agents.stablebaselines3.models import DRLAgent\n",
    "from finrl.finrl_meta.data_processor import DataProcessor\n",
    "\n",
    "from finrl.plot import backtest_stats, backtest_plot, get_daily_return, get_baseline"
   ]
  },
  {
   "cell_type": "code",
   "execution_count": 2,
   "metadata": {},
   "outputs": [],
   "source": [
    "import talib"
   ]
  },
  {
   "cell_type": "code",
   "execution_count": 3,
   "metadata": {},
   "outputs": [],
   "source": [
    "from data_processor import ChinaStockDownloader\n"
   ]
  },
  {
   "cell_type": "code",
   "execution_count": 4,
   "metadata": {},
   "outputs": [],
   "source": [
    "downloader = ChinaStockDownloader.ChinaStockDownloader(\n",
    "        start_date=\"2019-01-01\", end_date=\"2020-05-01\", index=\"TEST\"\n",
    "    )"
   ]
  },
  {
   "cell_type": "code",
   "execution_count": 5,
   "metadata": {},
   "outputs": [
    {
     "name": "stdout",
     "output_type": "stream",
     "text": [
      "Load from downloaded data\n"
     ]
    },
    {
     "data": {
      "text/html": [
       "<div>\n",
       "<style scoped>\n",
       "    .dataframe tbody tr th:only-of-type {\n",
       "        vertical-align: middle;\n",
       "    }\n",
       "\n",
       "    .dataframe tbody tr th {\n",
       "        vertical-align: top;\n",
       "    }\n",
       "\n",
       "    .dataframe thead th {\n",
       "        text-align: right;\n",
       "    }\n",
       "</style>\n",
       "<table border=\"1\" class=\"dataframe\">\n",
       "  <thead>\n",
       "    <tr style=\"text-align: right;\">\n",
       "      <th></th>\n",
       "      <th>date</th>\n",
       "      <th>tic</th>\n",
       "      <th>open</th>\n",
       "      <th>high</th>\n",
       "      <th>low</th>\n",
       "      <th>close</th>\n",
       "      <th>amount</th>\n",
       "    </tr>\n",
       "  </thead>\n",
       "  <tbody>\n",
       "    <tr>\n",
       "      <th>0</th>\n",
       "      <td>2019-01-02</td>\n",
       "      <td>sh.600000</td>\n",
       "      <td>9.74</td>\n",
       "      <td>9.79</td>\n",
       "      <td>9.58</td>\n",
       "      <td>9.70</td>\n",
       "      <td>2.296257e+08</td>\n",
       "    </tr>\n",
       "    <tr>\n",
       "      <th>1</th>\n",
       "      <td>2019-01-02</td>\n",
       "      <td>sh.600028</td>\n",
       "      <td>5.10</td>\n",
       "      <td>5.11</td>\n",
       "      <td>4.96</td>\n",
       "      <td>5.01</td>\n",
       "      <td>1.097685e+09</td>\n",
       "    </tr>\n",
       "    <tr>\n",
       "      <th>2</th>\n",
       "      <td>2019-01-02</td>\n",
       "      <td>sh.600030</td>\n",
       "      <td>16.01</td>\n",
       "      <td>16.01</td>\n",
       "      <td>16.01</td>\n",
       "      <td>16.01</td>\n",
       "      <td>0.000000e+00</td>\n",
       "    </tr>\n",
       "    <tr>\n",
       "      <th>3</th>\n",
       "      <td>2019-01-02</td>\n",
       "      <td>sh.600031</td>\n",
       "      <td>8.31</td>\n",
       "      <td>8.31</td>\n",
       "      <td>7.95</td>\n",
       "      <td>8.05</td>\n",
       "      <td>4.243270e+08</td>\n",
       "    </tr>\n",
       "    <tr>\n",
       "      <th>4</th>\n",
       "      <td>2019-01-03</td>\n",
       "      <td>sh.600000</td>\n",
       "      <td>9.70</td>\n",
       "      <td>9.82</td>\n",
       "      <td>9.66</td>\n",
       "      <td>9.81</td>\n",
       "      <td>1.819760e+08</td>\n",
       "    </tr>\n",
       "  </tbody>\n",
       "</table>\n",
       "</div>"
      ],
      "text/plain": [
       "         date        tic   open   high    low  close        amount\n",
       "0  2019-01-02  sh.600000   9.74   9.79   9.58   9.70  2.296257e+08\n",
       "1  2019-01-02  sh.600028   5.10   5.11   4.96   5.01  1.097685e+09\n",
       "2  2019-01-02  sh.600030  16.01  16.01  16.01  16.01  0.000000e+00\n",
       "3  2019-01-02  sh.600031   8.31   8.31   7.95   8.05  4.243270e+08\n",
       "4  2019-01-03  sh.600000   9.70   9.82   9.66   9.81  1.819760e+08"
      ]
     },
     "execution_count": 5,
     "metadata": {},
     "output_type": "execute_result"
    }
   ],
   "source": [
    "price_df = downloader.download_price()\n",
    "price_df.head()"
   ]
  },
  {
   "cell_type": "code",
   "execution_count": 6,
   "metadata": {},
   "outputs": [
    {
     "name": "stdout",
     "output_type": "stream",
     "text": [
      "Load from downloaded data\n"
     ]
    }
   ],
   "source": [
    "fund_df = downloader.download_fundament()"
   ]
  },
  {
   "cell_type": "code",
   "execution_count": 7,
   "metadata": {},
   "outputs": [],
   "source": [
    "from data_processor.indicator import add_fundamental_data\n",
    "\n",
    "df = add_fundamental_data(price_df, fund_df)"
   ]
  },
  {
   "cell_type": "code",
   "execution_count": 10,
   "metadata": {},
   "outputs": [
    {
     "data": {
      "text/html": [
       "<div>\n",
       "<style scoped>\n",
       "    .dataframe tbody tr th:only-of-type {\n",
       "        vertical-align: middle;\n",
       "    }\n",
       "\n",
       "    .dataframe tbody tr th {\n",
       "        vertical-align: top;\n",
       "    }\n",
       "\n",
       "    .dataframe thead th {\n",
       "        text-align: right;\n",
       "    }\n",
       "</style>\n",
       "<table border=\"1\" class=\"dataframe\">\n",
       "  <thead>\n",
       "    <tr style=\"text-align: right;\">\n",
       "      <th></th>\n",
       "      <th>tic</th>\n",
       "      <th>date</th>\n",
       "      <th>ROE</th>\n",
       "      <th>AssetStoEquity</th>\n",
       "      <th>Pnitoni</th>\n",
       "      <th>Nitogr</th>\n",
       "      <th>TaxBurden</th>\n",
       "    </tr>\n",
       "  </thead>\n",
       "  <tbody>\n",
       "    <tr>\n",
       "      <th>0</th>\n",
       "      <td>sh.600000</td>\n",
       "      <td>2019-04-30</td>\n",
       "      <td>0.034284</td>\n",
       "      <td>13.371919</td>\n",
       "      <td>0.990015</td>\n",
       "      <td>0.331942</td>\n",
       "      <td>0.860641</td>\n",
       "    </tr>\n",
       "    <tr>\n",
       "      <th>1</th>\n",
       "      <td>sh.600000</td>\n",
       "      <td>2019-08-24</td>\n",
       "      <td>0.066587</td>\n",
       "      <td>13.428551</td>\n",
       "      <td>0.990590</td>\n",
       "      <td>0.332083</td>\n",
       "      <td>0.848056</td>\n",
       "    </tr>\n",
       "    <tr>\n",
       "      <th>2</th>\n",
       "      <td>sh.600000</td>\n",
       "      <td>2019-10-30</td>\n",
       "      <td>0.095587</td>\n",
       "      <td>12.929761</td>\n",
       "      <td>0.989481</td>\n",
       "      <td>0.333802</td>\n",
       "      <td>0.846423</td>\n",
       "    </tr>\n",
       "    <tr>\n",
       "      <th>3</th>\n",
       "      <td>sh.600000</td>\n",
       "      <td>2020-04-25</td>\n",
       "      <td>0.114901</td>\n",
       "      <td>12.965903</td>\n",
       "      <td>0.990001</td>\n",
       "      <td>0.312059</td>\n",
       "      <td>0.852314</td>\n",
       "    </tr>\n",
       "    <tr>\n",
       "      <th>4</th>\n",
       "      <td>sh.600000</td>\n",
       "      <td>2020-04-25</td>\n",
       "      <td>0.030746</td>\n",
       "      <td>12.668370</td>\n",
       "      <td>0.990359</td>\n",
       "      <td>0.316289</td>\n",
       "      <td>0.846615</td>\n",
       "    </tr>\n",
       "    <tr>\n",
       "      <th>5</th>\n",
       "      <td>sh.600000</td>\n",
       "      <td>2020-08-29</td>\n",
       "      <td>0.051763</td>\n",
       "      <td>12.984997</td>\n",
       "      <td>0.989779</td>\n",
       "      <td>0.288481</td>\n",
       "      <td>0.871537</td>\n",
       "    </tr>\n",
       "    <tr>\n",
       "      <th>6</th>\n",
       "      <td>sh.600000</td>\n",
       "      <td>2020-10-31</td>\n",
       "      <td>0.079413</td>\n",
       "      <td>13.028267</td>\n",
       "      <td>0.990086</td>\n",
       "      <td>0.303837</td>\n",
       "      <td>0.875232</td>\n",
       "    </tr>\n",
       "    <tr>\n",
       "      <th>7</th>\n",
       "      <td>sh.600000</td>\n",
       "      <td>2021-03-27</td>\n",
       "      <td>0.097856</td>\n",
       "      <td>12.546493</td>\n",
       "      <td>0.988677</td>\n",
       "      <td>0.300396</td>\n",
       "      <td>0.884692</td>\n",
       "    </tr>\n",
       "  </tbody>\n",
       "</table>\n",
       "</div>"
      ],
      "text/plain": [
       "         tic        date       ROE  AssetStoEquity   Pnitoni    Nitogr  \\\n",
       "0  sh.600000  2019-04-30  0.034284       13.371919  0.990015  0.331942   \n",
       "1  sh.600000  2019-08-24  0.066587       13.428551  0.990590  0.332083   \n",
       "2  sh.600000  2019-10-30  0.095587       12.929761  0.989481  0.333802   \n",
       "3  sh.600000  2020-04-25  0.114901       12.965903  0.990001  0.312059   \n",
       "4  sh.600000  2020-04-25  0.030746       12.668370  0.990359  0.316289   \n",
       "5  sh.600000  2020-08-29  0.051763       12.984997  0.989779  0.288481   \n",
       "6  sh.600000  2020-10-31  0.079413       13.028267  0.990086  0.303837   \n",
       "7  sh.600000  2021-03-27  0.097856       12.546493  0.988677  0.300396   \n",
       "\n",
       "   TaxBurden  \n",
       "0   0.860641  \n",
       "1   0.848056  \n",
       "2   0.846423  \n",
       "3   0.852314  \n",
       "4   0.846615  \n",
       "5   0.871537  \n",
       "6   0.875232  \n",
       "7   0.884692  "
      ]
     },
     "execution_count": 10,
     "metadata": {},
     "output_type": "execute_result"
    }
   ],
   "source": [
    "fund_df[fund_df['tic'] == 'sh.600000']"
   ]
  },
  {
   "cell_type": "code",
   "execution_count": null,
   "metadata": {},
   "outputs": [],
   "source": []
  }
 ],
 "metadata": {
  "interpreter": {
   "hash": "0cd912b5b8ef2e2cf6ba30a360471b623d2891ab42b88478be3d571482cb392e"
  },
  "kernelspec": {
   "display_name": "Python 3.7.11 ('finrl')",
   "language": "python",
   "name": "python3"
  },
  "language_info": {
   "codemirror_mode": {
    "name": "ipython",
    "version": 3
   },
   "file_extension": ".py",
   "mimetype": "text/x-python",
   "name": "python",
   "nbconvert_exporter": "python",
   "pygments_lexer": "ipython3",
   "version": "3.7.11"
  },
  "orig_nbformat": 4
 },
 "nbformat": 4,
 "nbformat_minor": 2
}
