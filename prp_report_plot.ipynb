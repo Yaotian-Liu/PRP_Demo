{
 "cells": [
  {
   "cell_type": "code",
   "execution_count": 1,
   "metadata": {},
   "outputs": [],
   "source": [
    "import pandas as pd\n",
    "import numpy as np\n",
    "import os\n",
    "import matplotlib\n",
    "import matplotlib.pyplot as plt\n",
    "\n",
    "%matplotlib inline"
   ]
  },
  {
   "cell_type": "code",
   "execution_count": 2,
   "metadata": {},
   "outputs": [],
   "source": [
    "no_fund = np.load(\"./logs/DDPG_no_fund.npy\")[:,:10]\n",
    "no_fund.shape\n",
    "fund = np.load(\"./logs/DDPG_fund.npy\")"
   ]
  },
  {
   "cell_type": "code",
   "execution_count": 3,
   "metadata": {},
   "outputs": [
    {
     "data": {
      "text/plain": [
       "array([    0, 11000, 22000, 33000, 44000, 55000, 66000, 77000, 88000,\n",
       "       99000])"
      ]
     },
     "execution_count": 3,
     "metadata": {},
     "output_type": "execute_result"
    }
   ],
   "source": [
    "steps = np.array(range(10)) * 11000\n",
    "steps"
   ]
  },
  {
   "cell_type": "code",
   "execution_count": 4,
   "metadata": {},
   "outputs": [],
   "source": [
    "x = steps\n",
    "mean = fund.mean(axis=0)\n",
    "std = fund.std(axis=0)\n",
    "mean_n = no_fund.mean(axis=0)\n",
    "std_n = no_fund.std(axis=0)"
   ]
  },
  {
   "cell_type": "code",
   "execution_count": 9,
   "metadata": {},
   "outputs": [
    {
     "data": {
      "text/plain": [
       "Text(0, 0.5, 'final value')"
      ]
     },
     "execution_count": 9,
     "metadata": {},
     "output_type": "execute_result"
    },
    {
     "data": {
      "image/png": "[encoded data removed]",
      "text/plain": [
       "<Figure size 600x400 with 1 Axes>"
      ]
     },
     "metadata": {
      "needs_background": "light"
     },
     "output_type": "display_data"
    }
   ],
   "source": [
    "fig, ax = plt.subplots()\n",
    "fig.set_dpi(100.0)\n",
    "ax.set_title(\"DDPG\")\n",
    "ax.plot(x, mean, '-', color='blue', label='with fund')\n",
    "ax.plot(x, mean_n, '-', color='red', label='without fund')\n",
    "ax.legend()\n",
    "ax.fill_between(x, mean-std, mean+std, alpha=0.15, color='blue')\n",
    "ax.fill_between(x, mean_n-std_n, mean_n+std_n, alpha=0.15, color='red')\n",
    "ax.set_xlabel(\"steps\")\n",
    "ax.set_ylabel(\"final value\")"
   ]
  },
  {
   "cell_type": "code",
   "execution_count": 3,
   "metadata": {},
   "outputs": [
    {
     "data": {
      "text/plain": [
       "(5, 10)"
      ]
     },
     "execution_count": 3,
     "metadata": {},
     "output_type": "execute_result"
    }
   ],
   "source": [
    "no_fund = np.load(\"./logs/SAC_no_fund.npy\")\n",
    "no_fund.shape"
   ]
  },
  {
   "cell_type": "code",
   "execution_count": 18,
   "metadata": {},
   "outputs": [
    {
     "data": {
      "text/plain": [
       "array([[10203023.09048788, 18054406.72470095, 18054406.72470095,\n",
       "        16689677.40904884, 19565734.93645473, 19565734.93645473,\n",
       "        19565734.93645473, 19565734.93645473, 19565734.93645473,\n",
       "        19565734.93645473],\n",
       "       [19018163.29867949, 22181410.07333535, 22181410.07333535,\n",
       "        20664012.64768645, 20664012.64768645, 20664012.64768645,\n",
       "        20664012.64768645, 20664012.64768645, 20664012.64768645,\n",
       "        20664012.64768645],\n",
       "       [12652958.47885271, 18553388.66027416, 18553388.66027416,\n",
       "        17875639.52149178, 17875639.52149178, 17875639.52149178,\n",
       "        17875639.52149178, 17875639.52149178, 17875639.52149178,\n",
       "        17875639.52149178],\n",
       "       [12108030.94805608, 21433234.10878859, 21433234.10878859,\n",
       "        23318845.14780543, 23318845.14780543, 23318845.14780543,\n",
       "        23318845.14780543, 23318845.14780543, 23318845.14780543,\n",
       "        23318845.14780543],\n",
       "       [13460643.43547907, 15385306.98868664, 15385306.98868664,\n",
       "        15385306.98868664, 14511228.15027022, 14511228.15027022,\n",
       "        14511228.15027022, 14511228.15027022, 14511228.15027022,\n",
       "        14511228.15027022]])"
      ]
     },
     "execution_count": 18,
     "metadata": {},
     "output_type": "execute_result"
    }
   ],
   "source": [
    "no_fund"
   ]
  },
  {
   "cell_type": "code",
   "execution_count": 4,
   "metadata": {},
   "outputs": [],
   "source": [
    "dl = os.listdir(\"./logs/SAC/\")"
   ]
  },
  {
   "cell_type": "code",
   "execution_count": 5,
   "metadata": {},
   "outputs": [
    {
     "name": "stderr",
     "output_type": "stream",
     "text": [
      "/home/henry/miniconda3/envs/finrl/lib/python3.7/site-packages/ipykernel_launcher.py:6: FutureWarning: Passing 'suffixes' which cause duplicate columns {'mean_score_x'} in the result is deprecated and will raise a MergeError in a future version.\n",
      "  \n"
     ]
    },
    {
     "data": {
      "text/html": [
       "<div>\n",
       "<style scoped>\n",
       "    .dataframe tbody tr th:only-of-type {\n",
       "        vertical-align: middle;\n",
       "    }\n",
       "\n",
       "    .dataframe tbody tr th {\n",
       "        vertical-align: top;\n",
       "    }\n",
       "\n",
       "    .dataframe thead th {\n",
       "        text-align: right;\n",
       "    }\n",
       "</style>\n",
       "<table border=\"1\" class=\"dataframe\">\n",
       "  <thead>\n",
       "    <tr style=\"text-align: right;\">\n",
       "      <th></th>\n",
       "      <th>mean_score_x</th>\n",
       "      <th>total_steps</th>\n",
       "      <th>mean_score_y</th>\n",
       "      <th>mean_score_x</th>\n",
       "      <th>mean_score_y</th>\n",
       "      <th>mean_score</th>\n",
       "    </tr>\n",
       "  </thead>\n",
       "  <tbody>\n",
       "    <tr>\n",
       "      <th>0</th>\n",
       "      <td>9.179906e+06</td>\n",
       "      <td>0</td>\n",
       "      <td>1.040100e+07</td>\n",
       "      <td>1.797108e+07</td>\n",
       "      <td>1.703745e+07</td>\n",
       "      <td>1.578389e+07</td>\n",
       "    </tr>\n",
       "    <tr>\n",
       "      <th>1</th>\n",
       "      <td>1.805973e+07</td>\n",
       "      <td>11000</td>\n",
       "      <td>1.656077e+07</td>\n",
       "      <td>1.470199e+07</td>\n",
       "      <td>1.642713e+07</td>\n",
       "      <td>1.601814e+07</td>\n",
       "    </tr>\n",
       "    <tr>\n",
       "      <th>2</th>\n",
       "      <td>1.805973e+07</td>\n",
       "      <td>22000</td>\n",
       "      <td>1.656077e+07</td>\n",
       "      <td>1.470199e+07</td>\n",
       "      <td>1.642713e+07</td>\n",
       "      <td>1.601814e+07</td>\n",
       "    </tr>\n",
       "    <tr>\n",
       "      <th>3</th>\n",
       "      <td>1.805973e+07</td>\n",
       "      <td>33000</td>\n",
       "      <td>1.656077e+07</td>\n",
       "      <td>1.470199e+07</td>\n",
       "      <td>1.278411e+07</td>\n",
       "      <td>1.675311e+07</td>\n",
       "    </tr>\n",
       "    <tr>\n",
       "      <th>4</th>\n",
       "      <td>1.805973e+07</td>\n",
       "      <td>44000</td>\n",
       "      <td>1.971447e+07</td>\n",
       "      <td>1.724718e+07</td>\n",
       "      <td>1.278411e+07</td>\n",
       "      <td>1.602046e+07</td>\n",
       "    </tr>\n",
       "    <tr>\n",
       "      <th>5</th>\n",
       "      <td>1.578503e+07</td>\n",
       "      <td>55000</td>\n",
       "      <td>1.971447e+07</td>\n",
       "      <td>1.724718e+07</td>\n",
       "      <td>1.278411e+07</td>\n",
       "      <td>1.602046e+07</td>\n",
       "    </tr>\n",
       "    <tr>\n",
       "      <th>6</th>\n",
       "      <td>1.722603e+07</td>\n",
       "      <td>66000</td>\n",
       "      <td>1.951799e+07</td>\n",
       "      <td>1.724718e+07</td>\n",
       "      <td>1.278411e+07</td>\n",
       "      <td>1.602046e+07</td>\n",
       "    </tr>\n",
       "    <tr>\n",
       "      <th>7</th>\n",
       "      <td>1.722603e+07</td>\n",
       "      <td>77000</td>\n",
       "      <td>1.951799e+07</td>\n",
       "      <td>1.623959e+07</td>\n",
       "      <td>1.278411e+07</td>\n",
       "      <td>1.602046e+07</td>\n",
       "    </tr>\n",
       "    <tr>\n",
       "      <th>8</th>\n",
       "      <td>1.722603e+07</td>\n",
       "      <td>88000</td>\n",
       "      <td>1.951799e+07</td>\n",
       "      <td>1.623959e+07</td>\n",
       "      <td>1.278411e+07</td>\n",
       "      <td>1.602046e+07</td>\n",
       "    </tr>\n",
       "    <tr>\n",
       "      <th>9</th>\n",
       "      <td>1.722603e+07</td>\n",
       "      <td>99000</td>\n",
       "      <td>1.951799e+07</td>\n",
       "      <td>1.623959e+07</td>\n",
       "      <td>1.278411e+07</td>\n",
       "      <td>1.602046e+07</td>\n",
       "    </tr>\n",
       "  </tbody>\n",
       "</table>\n",
       "</div>"
      ],
      "text/plain": [
       "   mean_score_x  total_steps  mean_score_y  mean_score_x  mean_score_y  \\\n",
       "0  9.179906e+06            0  1.040100e+07  1.797108e+07  1.703745e+07   \n",
       "1  1.805973e+07        11000  1.656077e+07  1.470199e+07  1.642713e+07   \n",
       "2  1.805973e+07        22000  1.656077e+07  1.470199e+07  1.642713e+07   \n",
       "3  1.805973e+07        33000  1.656077e+07  1.470199e+07  1.278411e+07   \n",
       "4  1.805973e+07        44000  1.971447e+07  1.724718e+07  1.278411e+07   \n",
       "5  1.578503e+07        55000  1.971447e+07  1.724718e+07  1.278411e+07   \n",
       "6  1.722603e+07        66000  1.951799e+07  1.724718e+07  1.278411e+07   \n",
       "7  1.722603e+07        77000  1.951799e+07  1.623959e+07  1.278411e+07   \n",
       "8  1.722603e+07        88000  1.951799e+07  1.623959e+07  1.278411e+07   \n",
       "9  1.722603e+07        99000  1.951799e+07  1.623959e+07  1.278411e+07   \n",
       "\n",
       "     mean_score  \n",
       "0  1.578389e+07  \n",
       "1  1.601814e+07  \n",
       "2  1.601814e+07  \n",
       "3  1.675311e+07  \n",
       "4  1.602046e+07  \n",
       "5  1.602046e+07  \n",
       "6  1.602046e+07  \n",
       "7  1.602046e+07  \n",
       "8  1.602046e+07  \n",
       "9  1.602046e+07  "
      ]
     },
     "execution_count": 5,
     "metadata": {},
     "output_type": "execute_result"
    }
   ],
   "source": [
    "df = pd.read_csv(f\"./logs/SAC/{dl[0]}/evaluator.csv\").drop(\n",
    "    columns=[col+'_score' for col in ['std', 'min', 'max']])\n",
    "for path in dl[1:]:\n",
    "    x = pd.read_csv(f\"./logs/SAC/{path}/evaluator.csv\").drop(\n",
    "        columns=[col+'_score' for col in ['std', 'min', 'max']])\n",
    "    df = pd.merge(df, x, on='total_steps')\n",
    "df"
   ]
  },
  {
   "cell_type": "code",
   "execution_count": 6,
   "metadata": {},
   "outputs": [
    {
     "data": {
      "text/plain": [
       "(10, 5)"
      ]
     },
     "execution_count": 6,
     "metadata": {},
     "output_type": "execute_result"
    }
   ],
   "source": [
    "data = df.drop(columns=['total_steps']).to_numpy()\n",
    "data.shape"
   ]
  },
  {
   "cell_type": "code",
   "execution_count": 14,
   "metadata": {},
   "outputs": [
    {
     "data": {
      "text/plain": [
       "array([    0, 11000, 22000, 33000, 44000, 55000, 66000, 77000, 88000,\n",
       "       99000])"
      ]
     },
     "execution_count": 14,
     "metadata": {},
     "output_type": "execute_result"
    }
   ],
   "source": [
    "x = np.array(df.total_steps)\n",
    "x"
   ]
  },
  {
   "cell_type": "code",
   "execution_count": 15,
   "metadata": {},
   "outputs": [],
   "source": [
    "mean = data.mean(axis=1)\n",
    "std = data.std(axis=1)\n",
    "mean_n = no_fund.mean(axis=0)\n",
    "std_n = no_fund.std(axis=0)"
   ]
  },
  {
   "cell_type": "code",
   "execution_count": 17,
   "metadata": {},
   "outputs": [
    {
     "data": {
      "text/plain": [
       "Text(0, 0.5, 'final value')"
      ]
     },
     "execution_count": 17,
     "metadata": {},
     "output_type": "execute_result"
    },
    {
     "data": {
      "image/png": "[encoded data removed]",
      "text/plain": [
       "<Figure size 600x400 with 1 Axes>"
      ]
     },
     "metadata": {
      "needs_background": "light"
     },
     "output_type": "display_data"
    }
   ],
   "source": [
    "fig, ax = plt.subplots()\n",
    "fig.set_dpi(100.0)\n",
    "ax.set_title(\"SAC\")\n",
    "ax.plot(x, mean, '-', color='blue', label='with fund')\n",
    "ax.plot(x, mean_n, '-', color='red', label='without fund')\n",
    "ax.legend()\n",
    "ax.fill_between(x, mean-std, mean+std, alpha=0.15, color='blue')\n",
    "ax.fill_between(x, mean_n-std_n, mean_n+std_n, alpha=0.15, color='red')\n",
    "ax.set_xlabel(\"steps\")\n",
    "ax.set_ylabel(\"final value\")"
   ]
  },
  {
   "cell_type": "code",
   "execution_count": null,
   "metadata": {},
   "outputs": [],
   "source": []
  }
 ],
 "metadata": {
  "kernelspec": {
   "display_name": "Python 3.7.13 ('finrl')",
   "language": "python",
   "name": "python3"
  },
  "language_info": {
   "codemirror_mode": {
    "name": "ipython",
    "version": 3
   },
   "file_extension": ".py",
   "mimetype": "text/x-python",
   "name": "python",
   "nbconvert_exporter": "python",
   "pygments_lexer": "ipython3",
   "version": "3.7.13"
  },
  "orig_nbformat": 4,
  "vscode": {
   "interpreter": {
    "hash": "0cd912b5b8ef2e2cf6ba30a360471b623d2891ab42b88478be3d571482cb392e"
   }
  }
 },
 "nbformat": 4,
 "nbformat_minor": 2
}
