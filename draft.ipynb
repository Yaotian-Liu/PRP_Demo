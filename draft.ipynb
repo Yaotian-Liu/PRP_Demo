{
 "cells": [
  {
   "cell_type": "code",
   "execution_count": 20,
   "metadata": {},
   "outputs": [],
   "source": [
    "import pandas as pd\n",
    "import talib"
   ]
  },
  {
   "cell_type": "code",
   "execution_count": 6,
   "metadata": {},
   "outputs": [
    {
     "data": {
      "text/plain": [
       "dict_keys(['Cycle Indicators', 'Math Operators', 'Math Transform', 'Momentum Indicators', 'Overlap Studies', 'Pattern Recognition', 'Price Transform', 'Statistic Functions', 'Volatility Indicators', 'Volume Indicators'])"
      ]
     },
     "execution_count": 6,
     "metadata": {},
     "output_type": "execute_result"
    }
   ],
   "source": [
    "talib.get_function_groups().keys()"
   ]
  },
  {
   "cell_type": "code",
   "execution_count": 9,
   "metadata": {},
   "outputs": [
    {
     "data": {
      "text/html": [
       "<div>\n",
       "<style scoped>\n",
       "    .dataframe tbody tr th:only-of-type {\n",
       "        vertical-align: middle;\n",
       "    }\n",
       "\n",
       "    .dataframe tbody tr th {\n",
       "        vertical-align: top;\n",
       "    }\n",
       "\n",
       "    .dataframe thead th {\n",
       "        text-align: right;\n",
       "    }\n",
       "</style>\n",
       "<table border=\"1\" class=\"dataframe\">\n",
       "  <thead>\n",
       "    <tr style=\"text-align: right;\">\n",
       "      <th></th>\n",
       "      <th>date</th>\n",
       "      <th>tic</th>\n",
       "      <th>open</th>\n",
       "      <th>high</th>\n",
       "      <th>low</th>\n",
       "      <th>close</th>\n",
       "      <th>amount</th>\n",
       "    </tr>\n",
       "  </thead>\n",
       "  <tbody>\n",
       "    <tr>\n",
       "      <th>0</th>\n",
       "      <td>2019-01-02</td>\n",
       "      <td>sh.600000</td>\n",
       "      <td>9.74</td>\n",
       "      <td>9.79</td>\n",
       "      <td>9.58</td>\n",
       "      <td>9.70</td>\n",
       "      <td>2.296257e+08</td>\n",
       "    </tr>\n",
       "    <tr>\n",
       "      <th>1</th>\n",
       "      <td>2019-01-02</td>\n",
       "      <td>sh.600028</td>\n",
       "      <td>5.10</td>\n",
       "      <td>5.11</td>\n",
       "      <td>4.96</td>\n",
       "      <td>5.01</td>\n",
       "      <td>1.097685e+09</td>\n",
       "    </tr>\n",
       "    <tr>\n",
       "      <th>2</th>\n",
       "      <td>2019-01-02</td>\n",
       "      <td>sh.600030</td>\n",
       "      <td>16.01</td>\n",
       "      <td>16.01</td>\n",
       "      <td>16.01</td>\n",
       "      <td>16.01</td>\n",
       "      <td>0.000000e+00</td>\n",
       "    </tr>\n",
       "    <tr>\n",
       "      <th>3</th>\n",
       "      <td>2019-01-02</td>\n",
       "      <td>sh.600031</td>\n",
       "      <td>8.31</td>\n",
       "      <td>8.31</td>\n",
       "      <td>7.95</td>\n",
       "      <td>8.05</td>\n",
       "      <td>4.243270e+08</td>\n",
       "    </tr>\n",
       "    <tr>\n",
       "      <th>4</th>\n",
       "      <td>2019-01-03</td>\n",
       "      <td>sh.600000</td>\n",
       "      <td>9.70</td>\n",
       "      <td>9.82</td>\n",
       "      <td>9.66</td>\n",
       "      <td>9.81</td>\n",
       "      <td>1.819760e+08</td>\n",
       "    </tr>\n",
       "  </tbody>\n",
       "</table>\n",
       "</div>"
      ],
      "text/plain": [
       "         date        tic   open   high    low  close        amount\n",
       "0  2019-01-02  sh.600000   9.74   9.79   9.58   9.70  2.296257e+08\n",
       "1  2019-01-02  sh.600028   5.10   5.11   4.96   5.01  1.097685e+09\n",
       "2  2019-01-02  sh.600030  16.01  16.01  16.01  16.01  0.000000e+00\n",
       "3  2019-01-02  sh.600031   8.31   8.31   7.95   8.05  4.243270e+08\n",
       "4  2019-01-03  sh.600000   9.70   9.82   9.66   9.81  1.819760e+08"
      ]
     },
     "execution_count": 9,
     "metadata": {},
     "output_type": "execute_result"
    }
   ],
   "source": [
    "df = pd.read_csv('./data/TEST_2019-01-01~2020-05-01.csv')\n",
    "df.head()"
   ]
  },
  {
   "cell_type": "code",
   "execution_count": 11,
   "metadata": {},
   "outputs": [
    {
     "data": {
      "text/plain": [
       "['sh.600000', 'sh.600028', 'sh.600030', 'sh.600031']"
      ]
     },
     "execution_count": 11,
     "metadata": {},
     "output_type": "execute_result"
    }
   ],
   "source": [
    "tics = df['tic'].unique().tolist()\n",
    "tics"
   ]
  },
  {
   "cell_type": "code",
   "execution_count": 27,
   "metadata": {},
   "outputs": [
    {
     "data": {
      "text/html": [
       "<div>\n",
       "<style scoped>\n",
       "    .dataframe tbody tr th:only-of-type {\n",
       "        vertical-align: middle;\n",
       "    }\n",
       "\n",
       "    .dataframe tbody tr th {\n",
       "        vertical-align: top;\n",
       "    }\n",
       "\n",
       "    .dataframe thead th {\n",
       "        text-align: right;\n",
       "    }\n",
       "</style>\n",
       "<table border=\"1\" class=\"dataframe\">\n",
       "  <thead>\n",
       "    <tr style=\"text-align: right;\">\n",
       "      <th></th>\n",
       "      <th>date</th>\n",
       "      <th>tic</th>\n",
       "      <th>open</th>\n",
       "      <th>high</th>\n",
       "      <th>low</th>\n",
       "      <th>close</th>\n",
       "      <th>amount</th>\n",
       "    </tr>\n",
       "  </thead>\n",
       "  <tbody>\n",
       "    <tr>\n",
       "      <th>0</th>\n",
       "      <td>2019-01-02</td>\n",
       "      <td>sh.600000</td>\n",
       "      <td>9.74</td>\n",
       "      <td>9.79</td>\n",
       "      <td>9.58</td>\n",
       "      <td>9.70</td>\n",
       "      <td>229625669.0</td>\n",
       "    </tr>\n",
       "    <tr>\n",
       "      <th>1</th>\n",
       "      <td>2019-01-03</td>\n",
       "      <td>sh.600000</td>\n",
       "      <td>9.70</td>\n",
       "      <td>9.82</td>\n",
       "      <td>9.66</td>\n",
       "      <td>9.81</td>\n",
       "      <td>181975985.0</td>\n",
       "    </tr>\n",
       "    <tr>\n",
       "      <th>2</th>\n",
       "      <td>2019-01-04</td>\n",
       "      <td>sh.600000</td>\n",
       "      <td>9.73</td>\n",
       "      <td>10.00</td>\n",
       "      <td>9.70</td>\n",
       "      <td>9.96</td>\n",
       "      <td>268964563.0</td>\n",
       "    </tr>\n",
       "    <tr>\n",
       "      <th>3</th>\n",
       "      <td>2019-01-07</td>\n",
       "      <td>sh.600000</td>\n",
       "      <td>10.09</td>\n",
       "      <td>10.09</td>\n",
       "      <td>9.92</td>\n",
       "      <td>9.98</td>\n",
       "      <td>235440197.0</td>\n",
       "    </tr>\n",
       "    <tr>\n",
       "      <th>4</th>\n",
       "      <td>2019-01-08</td>\n",
       "      <td>sh.600000</td>\n",
       "      <td>10.03</td>\n",
       "      <td>10.03</td>\n",
       "      <td>9.91</td>\n",
       "      <td>9.96</td>\n",
       "      <td>150501650.0</td>\n",
       "    </tr>\n",
       "  </tbody>\n",
       "</table>\n",
       "</div>"
      ],
      "text/plain": [
       "         date        tic   open   high   low  close       amount\n",
       "0  2019-01-02  sh.600000   9.74   9.79  9.58   9.70  229625669.0\n",
       "1  2019-01-03  sh.600000   9.70   9.82  9.66   9.81  181975985.0\n",
       "2  2019-01-04  sh.600000   9.73  10.00  9.70   9.96  268964563.0\n",
       "3  2019-01-07  sh.600000  10.09  10.09  9.92   9.98  235440197.0\n",
       "4  2019-01-08  sh.600000  10.03  10.03  9.91   9.96  150501650.0"
      ]
     },
     "execution_count": 27,
     "metadata": {},
     "output_type": "execute_result"
    }
   ],
   "source": [
    "data = df[df['tic'] == 'sh.600000'].reset_index(drop=True)\n",
    "data.head()"
   ]
  },
  {
   "cell_type": "code",
   "execution_count": 28,
   "metadata": {},
   "outputs": [],
   "source": [
    "data['macd'], data['macdsignal'], data['macdhist'] = talib.MACD(data['close'], fastperiod=12, slowperiod=26, signalperiod=9)"
   ]
  },
  {
   "cell_type": "code",
   "execution_count": 32,
   "metadata": {},
   "outputs": [],
   "source": [
    "data['RSI'] = talib.RSI(data['close'], timeperiod=14)"
   ]
  },
  {
   "cell_type": "code",
   "execution_count": 34,
   "metadata": {},
   "outputs": [],
   "source": [
    "data['MOM'] = talib.MOM(data['close'], timeperiod=10)"
   ]
  },
  {
   "cell_type": "code",
   "execution_count": null,
   "metadata": {},
   "outputs": [],
   "source": []
  }
 ],
 "metadata": {
  "interpreter": {
   "hash": "0cd912b5b8ef2e2cf6ba30a360471b623d2891ab42b88478be3d571482cb392e"
  },
  "kernelspec": {
   "display_name": "Python 3.7.11 ('finrl')",
   "language": "python",
   "name": "python3"
  },
  "language_info": {
   "codemirror_mode": {
    "name": "ipython",
    "version": 3
   },
   "file_extension": ".py",
   "mimetype": "text/x-python",
   "name": "python",
   "nbconvert_exporter": "python",
   "pygments_lexer": "ipython3",
   "version": "3.7.11"
  },
  "orig_nbformat": 4
 },
 "nbformat": 4,
 "nbformat_minor": 2
}
