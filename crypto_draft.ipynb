{
 "cells": [
  {
   "cell_type": "code",
   "execution_count": null,
   "metadata": {},
   "outputs": [],
   "source": [
    "from finrl.finrl_meta.env_cryptocurrency_trading.env_multiple_crypto import CryptoEnv\n",
    "from finrl.agents.elegantrl.models import DRLAgent as DRLAgent_erl\n",
    "from finrl.finrl_meta.preprocessor.preprocessors import data_split\n",
    "from finrl.plot import backtest_stats, backtest_plot, get_daily_return, get_baseline\n",
    "import datetime\n",
    "from data_processor import config\n",
    "\n",
    "import matplotlib\n",
    "\n"
   ]
  },
  {
   "cell_type": "code",
   "execution_count": null,
   "metadata": {},
   "outputs": [],
   "source": [
    "import ccxt\n",
    "import pandas as pd\n",
    "import numpy as np\n"
   ]
  },
  {
   "cell_type": "markdown",
   "metadata": {},
   "source": [
    "## Read Doneloaded Data"
   ]
  },
  {
   "cell_type": "code",
   "execution_count": null,
   "metadata": {},
   "outputs": [],
   "source": [
    "tic_list = [\n",
    "    \"BNBUSDT\",\n",
    "    \"BTCUSDT\",\n",
    "    \"ETHUSDT\",\n",
    "    \"XRPUSDT\",\n",
    "    \"SOLUSDT\",\n",
    "    \"LUNAUSDT\",\n",
    "    \"ADAUSDT\",\n",
    "    \"AVAXUSDT\",\n",
    "    \"DOGEUSDT\",\n",
    "    \"DOTUSDT\",\n",
    "]\n",
    "\n",
    "interval = \"1h\"\n"
   ]
  },
  {
   "cell_type": "code",
   "execution_count": null,
   "metadata": {},
   "outputs": [],
   "source": [
    "df_list = []\n",
    "for tic in tic_list:\n",
    "    data_path = f\"./data/{tic}-{interval}.csv\"\n",
    "    data = pd.read_csv(data_path).values\n",
    "    df = pd.DataFrame(\n",
    "        data,\n",
    "        columns=[\n",
    "            \"date\",\n",
    "            \"open\",\n",
    "            \"high\",\n",
    "            \"low\",\n",
    "            \"close\",\n",
    "            \"volume\",\n",
    "            \"close_time\",\n",
    "            \"quote_asset_volume\",\n",
    "            \"number_of_trades\",\n",
    "            \"taker_buy_base_asset_volume\",\n",
    "            \"taker_buy_quote_asset_volume\",\n",
    "            \"ignore\",\n",
    "        ],\n",
    "    )\n",
    "    df[\"date\"] = pd.to_datetime(df[\"date\"].add(1800000), unit=\"ms\")\n",
    "    df.drop(\n",
    "        columns=[\n",
    "            \"close_time\",\n",
    "            \"quote_asset_volume\",\n",
    "            \"number_of_trades\",\n",
    "            \"taker_buy_base_asset_volume\",\n",
    "            \"taker_buy_quote_asset_volume\",\n",
    "            \"ignore\",\n",
    "        ],\n",
    "        inplace=True,\n",
    "    )\n",
    "    df[\"tic\"] = tic\n",
    "    df_list.append(df)\n",
    "\n",
    "price_df = pd.concat(df_list)\n",
    "price_df = price_df.sort_values(by=[\"date\", \"tic\"], ignore_index=True)\n"
   ]
  },
  {
   "cell_type": "code",
   "execution_count": null,
   "metadata": {},
   "outputs": [],
   "source": [
    "from data_processor.indicator import add_tech_indicator, add_fundamental_data\n",
    "\n",
    "data_df = add_tech_indicator(price_df).dropna(how=\"any\")\n",
    "data_df.iloc[0][\"date\"]\n"
   ]
  },
  {
   "cell_type": "code",
   "execution_count": null,
   "metadata": {},
   "outputs": [],
   "source": [
    "data_df = data_df.drop(columns=[\"open\", \"high\", \"low\"])\n"
   ]
  },
  {
   "cell_type": "code",
   "execution_count": null,
   "metadata": {},
   "outputs": [],
   "source": [
    "train = data_split(data_df, \"2021-06-01\", \"2022-1-31\")\n",
    "trade = data_split(data_df, \"2022-02-01\", \"2022-3-31\")\n",
    "print(len(train), len(trade))\n"
   ]
  },
  {
   "cell_type": "code",
   "execution_count": null,
   "metadata": {},
   "outputs": [],
   "source": [
    "from my_trading_env.crypto_env import CryptoEnv\n",
    "from my_trading_env.crypto_erl_agent import CryptoDRLAgent\n"
   ]
  },
  {
   "cell_type": "code",
   "execution_count": null,
   "metadata": {},
   "outputs": [],
   "source": [
    "env = CryptoEnv(data_df=train, tech_indicators_list=config.TECH_INDICATORS, lookback=5)\n"
   ]
  },
  {
   "cell_type": "code",
   "execution_count": null,
   "metadata": {},
   "outputs": [],
   "source": [
    "agent = CryptoDRLAgent(env)\n"
   ]
  },
  {
   "cell_type": "code",
   "execution_count": null,
   "metadata": {},
   "outputs": [],
   "source": [
    "model_kwargs = {\n",
    "    \"learning_rate\": 5e-6,\n",
    "    \"batch_size\": 2**10,\n",
    "    \"gamma\": 0.99,\n",
    "    \"seed\": 312,\n",
    "    \"net_dimension\": 2**12,\n",
    "    \"target_step\": env.max_step * 2,\n",
    "    \"eval_gap\": 50,\n",
    "    \"eval_times\": 4,\n",
    "}\n",
    "\n",
    "model = agent.get_model(\"sac\", model_kwargs)\n"
   ]
  },
  {
   "cell_type": "code",
   "execution_count": null,
   "metadata": {},
   "outputs": [],
   "source": [
    "trained_model = agent.train_model(model=model, cwd='./test', total_timesteps=4e5)"
   ]
  },
  {
   "cell_type": "markdown",
   "metadata": {},
   "source": [
    "## Backtest"
   ]
  },
  {
   "cell_type": "code",
   "execution_count": null,
   "metadata": {},
   "outputs": [],
   "source": [
    "test_env = CryptoEnv(trade, config.TECH_INDICATORS)\n",
    "test_result, actions = agent.DRL_prediction(\"sac\", \"./test\", 2**12, test_env)\n"
   ]
  },
  {
   "cell_type": "code",
   "execution_count": null,
   "metadata": {},
   "outputs": [],
   "source": [
    "actions[0:2]"
   ]
  },
  {
   "cell_type": "code",
   "execution_count": null,
   "metadata": {},
   "outputs": [],
   "source": [
    "baseline_df = pd.DataFrame()\n",
    "baseline_df['account_value'] = trade[trade['tic'] == \"BTCUSDT\"]['close'].to_list()[1:]\n",
    "baseline_df['date'] = test_result['date']"
   ]
  },
  {
   "cell_type": "code",
   "execution_count": null,
   "metadata": {},
   "outputs": [],
   "source": [
    "trade_ret = get_daily_return(test_result)\n",
    "base_ret = get_daily_return(baseline_df)"
   ]
  },
  {
   "cell_type": "code",
   "execution_count": null,
   "metadata": {},
   "outputs": [],
   "source": [
    "import pyfolio\n",
    "%matplotlib inline\n",
    "\n",
    "pyfolio.create_full_tear_sheet(trade_ret, benchmark_rets=base_ret)"
   ]
  },
  {
   "cell_type": "code",
   "execution_count": null,
   "metadata": {},
   "outputs": [],
   "source": []
  }
 ],
 "metadata": {
  "interpreter": {
   "hash": "0cd912b5b8ef2e2cf6ba30a360471b623d2891ab42b88478be3d571482cb392e"
  },
  "kernelspec": {
   "display_name": "Python 3.7.13 ('finrl': conda)",
   "language": "python",
   "name": "python3"
  },
  "language_info": {
   "codemirror_mode": {
    "name": "ipython",
    "version": 3
   },
   "file_extension": ".py",
   "mimetype": "text/x-python",
   "name": "python",
   "nbconvert_exporter": "python",
   "pygments_lexer": "ipython3",
   "version": "3.7.13"
  },
  "orig_nbformat": 4
 },
 "nbformat": 4,
 "nbformat_minor": 2
}
