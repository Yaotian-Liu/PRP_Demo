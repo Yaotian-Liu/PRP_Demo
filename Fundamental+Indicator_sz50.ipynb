{
 "cells": [
  {
   "cell_type": "code",
   "execution_count": 1,
   "metadata": {},
   "outputs": [
    {
     "name": "stderr",
     "output_type": "stream",
     "text": [
      "/home/henry/miniconda3/envs/finrl/lib/python3.7/site-packages/pyfolio/pos.py:27: UserWarning: Module \"zipline.assets\" not found; multipliers will not be applied to position notionals.\n",
      "  'Module \"zipline.assets\" not found; multipliers will not be applied'\n"
     ]
    }
   ],
   "source": [
    "import pandas as pd\n",
    "import numpy as np\n",
    "import matplotlib\n",
    "import matplotlib.pyplot as plt\n",
    "# matplotlib.use('Agg')\n",
    "import datetime\n",
    "import itertools\n",
    "import os\n",
    "\n",
    "%matplotlib inline\n",
    "from finrl import config\n",
    "from finrl import config_tickers\n",
    "from finrl.finrl_meta.preprocessor.yahoodownloader import YahooDownloader\n",
    "from finrl.finrl_meta.preprocessor.preprocessors import FeatureEngineer, data_split\n",
    "from finrl.finrl_meta.env_stock_trading.env_stocktrading import StockTradingEnv\n",
    "from finrl.agents.stablebaselines3.models import DRLAgent\n",
    "from finrl.finrl_meta.data_processor import DataProcessor\n",
    "\n",
    "from finrl.plot import backtest_stats, backtest_plot, get_daily_return, get_baseline"
   ]
  },
  {
   "cell_type": "code",
   "execution_count": 2,
   "metadata": {},
   "outputs": [],
   "source": [
    "import datetime\n"
   ]
  },
  {
   "cell_type": "code",
   "execution_count": 3,
   "metadata": {},
   "outputs": [],
   "source": [
    "from data_processor.indicator import (\n",
    "    add_all_indicators,\n",
    "    add_tech_indicator,\n",
    "    tech_indicator_only,\n",
    ")\n"
   ]
  },
  {
   "cell_type": "code",
   "execution_count": 4,
   "metadata": {},
   "outputs": [],
   "source": [
    "import data_processor.config\n"
   ]
  },
  {
   "cell_type": "code",
   "execution_count": 6,
   "metadata": {},
   "outputs": [],
   "source": [
    "price_df = pd.read_parquet(\"./data/sz50_price.parquet\")\n",
    "fund_df = pd.read_parquet(\"./data/sz50_fundament.parquet\")\n"
   ]
  },
  {
   "cell_type": "code",
   "execution_count": 7,
   "metadata": {},
   "outputs": [
    {
     "data": {
      "text/html": [
       "<div>\n",
       "<style scoped>\n",
       "    .dataframe tbody tr th:only-of-type {\n",
       "        vertical-align: middle;\n",
       "    }\n",
       "\n",
       "    .dataframe tbody tr th {\n",
       "        vertical-align: top;\n",
       "    }\n",
       "\n",
       "    .dataframe thead th {\n",
       "        text-align: right;\n",
       "    }\n",
       "</style>\n",
       "<table border=\"1\" class=\"dataframe\">\n",
       "  <thead>\n",
       "    <tr style=\"text-align: right;\">\n",
       "      <th></th>\n",
       "      <th>date</th>\n",
       "      <th>tic</th>\n",
       "      <th>open</th>\n",
       "      <th>high</th>\n",
       "      <th>low</th>\n",
       "      <th>close</th>\n",
       "      <th>volume</th>\n",
       "      <th>amount</th>\n",
       "      <th>peTTM</th>\n",
       "      <th>pbMRQ</th>\n",
       "      <th>...</th>\n",
       "      <th>macdhist</th>\n",
       "      <th>CCI</th>\n",
       "      <th>RSI</th>\n",
       "      <th>NATR</th>\n",
       "      <th>ADOSC</th>\n",
       "      <th>ROE</th>\n",
       "      <th>AssetStoEquity</th>\n",
       "      <th>Pnitoni</th>\n",
       "      <th>Nitogr</th>\n",
       "      <th>TaxBurden</th>\n",
       "    </tr>\n",
       "  </thead>\n",
       "  <tbody>\n",
       "    <tr>\n",
       "      <th>0</th>\n",
       "      <td>2008-06-30</td>\n",
       "      <td>sh.600000</td>\n",
       "      <td>47.588843</td>\n",
       "      <td>48.725921</td>\n",
       "      <td>45.798997</td>\n",
       "      <td>46.325422</td>\n",
       "      <td>18472630.0</td>\n",
       "      <td>4.119299e+08</td>\n",
       "      <td>16.993591</td>\n",
       "      <td>3.964146</td>\n",
       "      <td>...</td>\n",
       "      <td>-0.312665</td>\n",
       "      <td>-249.983045</td>\n",
       "      <td>33.922854</td>\n",
       "      <td>6.516124</td>\n",
       "      <td>-2.366369e+06</td>\n",
       "      <td>0.094165</td>\n",
       "      <td>31.230895</td>\n",
       "      <td>1.000000</td>\n",
       "      <td>0.349795</td>\n",
       "      <td>0.761823</td>\n",
       "    </tr>\n",
       "    <tr>\n",
       "      <th>1</th>\n",
       "      <td>2008-06-30</td>\n",
       "      <td>sh.600028</td>\n",
       "      <td>11.591980</td>\n",
       "      <td>12.009291</td>\n",
       "      <td>11.336956</td>\n",
       "      <td>11.765860</td>\n",
       "      <td>66219882.0</td>\n",
       "      <td>6.663410e+08</td>\n",
       "      <td>20.920215</td>\n",
       "      <td>2.797929</td>\n",
       "      <td>...</td>\n",
       "      <td>-0.274170</td>\n",
       "      <td>-165.029880</td>\n",
       "      <td>35.553363</td>\n",
       "      <td>8.545361</td>\n",
       "      <td>1.887818e+07</td>\n",
       "      <td>0.021775</td>\n",
       "      <td>2.424673</td>\n",
       "      <td>1.008579</td>\n",
       "      <td>0.020011</td>\n",
       "      <td>0.972198</td>\n",
       "    </tr>\n",
       "    <tr>\n",
       "      <th>2</th>\n",
       "      <td>2008-06-30</td>\n",
       "      <td>sh.600030</td>\n",
       "      <td>50.107056</td>\n",
       "      <td>52.194850</td>\n",
       "      <td>49.104915</td>\n",
       "      <td>49.940032</td>\n",
       "      <td>62758174.0</td>\n",
       "      <td>1.514636e+09</td>\n",
       "      <td>11.614174</td>\n",
       "      <td>3.039415</td>\n",
       "      <td>...</td>\n",
       "      <td>-0.491795</td>\n",
       "      <td>-92.445524</td>\n",
       "      <td>35.494104</td>\n",
       "      <td>8.747922</td>\n",
       "      <td>4.709105e+07</td>\n",
       "      <td>0.048595</td>\n",
       "      <td>3.940038</td>\n",
       "      <td>0.912936</td>\n",
       "      <td>0.476801</td>\n",
       "      <td>0.773185</td>\n",
       "    </tr>\n",
       "    <tr>\n",
       "      <th>3</th>\n",
       "      <td>2008-06-30</td>\n",
       "      <td>sh.600031</td>\n",
       "      <td>115.910200</td>\n",
       "      <td>119.760075</td>\n",
       "      <td>111.811947</td>\n",
       "      <td>115.123666</td>\n",
       "      <td>5576465.0</td>\n",
       "      <td>1.553746e+08</td>\n",
       "      <td>17.886464</td>\n",
       "      <td>5.505186</td>\n",
       "      <td>...</td>\n",
       "      <td>0.392326</td>\n",
       "      <td>-91.666667</td>\n",
       "      <td>31.941251</td>\n",
       "      <td>7.312560</td>\n",
       "      <td>1.320480e+06</td>\n",
       "      <td>0.062107</td>\n",
       "      <td>2.457262</td>\n",
       "      <td>0.858524</td>\n",
       "      <td>0.132264</td>\n",
       "      <td>0.875612</td>\n",
       "    </tr>\n",
       "    <tr>\n",
       "      <th>4</th>\n",
       "      <td>2008-06-30</td>\n",
       "      <td>sh.600036</td>\n",
       "      <td>48.239143</td>\n",
       "      <td>49.304624</td>\n",
       "      <td>48.051117</td>\n",
       "      <td>48.928572</td>\n",
       "      <td>41156575.0</td>\n",
       "      <td>9.584711e+08</td>\n",
       "      <td>18.033613</td>\n",
       "      <td>4.607180</td>\n",
       "      <td>...</td>\n",
       "      <td>0.295525</td>\n",
       "      <td>-135.510793</td>\n",
       "      <td>34.556248</td>\n",
       "      <td>5.260317</td>\n",
       "      <td>1.371192e+07</td>\n",
       "      <td>0.088535</td>\n",
       "      <td>18.804996</td>\n",
       "      <td>1.000000</td>\n",
       "      <td>0.460837</td>\n",
       "      <td>0.760135</td>\n",
       "    </tr>\n",
       "  </tbody>\n",
       "</table>\n",
       "<p>5 rows × 25 columns</p>\n",
       "</div>"
      ],
      "text/plain": [
       "        date        tic        open        high         low       close  \\\n",
       "0 2008-06-30  sh.600000   47.588843   48.725921   45.798997   46.325422   \n",
       "1 2008-06-30  sh.600028   11.591980   12.009291   11.336956   11.765860   \n",
       "2 2008-06-30  sh.600030   50.107056   52.194850   49.104915   49.940032   \n",
       "3 2008-06-30  sh.600031  115.910200  119.760075  111.811947  115.123666   \n",
       "4 2008-06-30  sh.600036   48.239143   49.304624   48.051117   48.928572   \n",
       "\n",
       "       volume        amount      peTTM     pbMRQ  ...  macdhist         CCI  \\\n",
       "0  18472630.0  4.119299e+08  16.993591  3.964146  ... -0.312665 -249.983045   \n",
       "1  66219882.0  6.663410e+08  20.920215  2.797929  ... -0.274170 -165.029880   \n",
       "2  62758174.0  1.514636e+09  11.614174  3.039415  ... -0.491795  -92.445524   \n",
       "3   5576465.0  1.553746e+08  17.886464  5.505186  ...  0.392326  -91.666667   \n",
       "4  41156575.0  9.584711e+08  18.033613  4.607180  ...  0.295525 -135.510793   \n",
       "\n",
       "         RSI      NATR         ADOSC       ROE  AssetStoEquity   Pnitoni  \\\n",
       "0  33.922854  6.516124 -2.366369e+06  0.094165       31.230895  1.000000   \n",
       "1  35.553363  8.545361  1.887818e+07  0.021775        2.424673  1.008579   \n",
       "2  35.494104  8.747922  4.709105e+07  0.048595        3.940038  0.912936   \n",
       "3  31.941251  7.312560  1.320480e+06  0.062107        2.457262  0.858524   \n",
       "4  34.556248  5.260317  1.371192e+07  0.088535       18.804996  1.000000   \n",
       "\n",
       "     Nitogr  TaxBurden  \n",
       "0  0.349795   0.761823  \n",
       "1  0.020011   0.972198  \n",
       "2  0.476801   0.773185  \n",
       "3  0.132264   0.875612  \n",
       "4  0.460837   0.760135  \n",
       "\n",
       "[5 rows x 25 columns]"
      ]
     },
     "execution_count": 7,
     "metadata": {},
     "output_type": "execute_result"
    }
   ],
   "source": [
    "df = add_all_indicators(price_df, fund_df)\n",
    "#df = add_tech_indicator(price_df)\n",
    "df.head()\n"
   ]
  },
  {
   "cell_type": "code",
   "execution_count": 8,
   "metadata": {},
   "outputs": [],
   "source": [
    "available_tics = (\n",
    "    df.set_index(\"date\").loc[data_processor.config.FIRST_DAY_OF_2009].tic.tolist()\n",
    ")\n"
   ]
  },
  {
   "cell_type": "code",
   "execution_count": 9,
   "metadata": {},
   "outputs": [],
   "source": [
    "tmp_list = []\n",
    "for tic in available_tics:\n",
    "    tmp_df = df[df['tic'] == tic]\n",
    "    tmp_list.append(tmp_df)\n",
    "    \n",
    "df = pd.concat(tmp_list, ignore_index=True)\n",
    "    "
   ]
  },
  {
   "cell_type": "code",
   "execution_count": 10,
   "metadata": {},
   "outputs": [],
   "source": [
    "train = data_split(df, \"2009-01-01\", \"2020-01-01\")\n",
    "trade = data_split(df, \"2020-01-01\", \"2022-01-01\")\n"
   ]
  },
  {
   "cell_type": "code",
   "execution_count": 11,
   "metadata": {},
   "outputs": [],
   "source": [
    "indicators = data_processor.config.INDICATORS\n",
    "# indicators = [\"SMA_20\", \"SMA_60\", \"SMA_120\", \"macdhist\", \"CCI\", \"RSI\", \"NATR\", \"ADOSC\"]\n"
   ]
  },
  {
   "cell_type": "code",
   "execution_count": 12,
   "metadata": {},
   "outputs": [
    {
     "data": {
      "text/plain": [
       "17"
      ]
     },
     "execution_count": 12,
     "metadata": {},
     "output_type": "execute_result"
    }
   ],
   "source": [
    "n_indicators = len(indicators)\n",
    "n_indicators\n"
   ]
  },
  {
   "cell_type": "code",
   "execution_count": 13,
   "metadata": {},
   "outputs": [
    {
     "data": {
      "text/plain": [
       "34"
      ]
     },
     "execution_count": 13,
     "metadata": {},
     "output_type": "execute_result"
    }
   ],
   "source": [
    "stock_dimension = len(df.tic.unique())\n",
    "stock_dimension\n"
   ]
  },
  {
   "cell_type": "code",
   "execution_count": 14,
   "metadata": {},
   "outputs": [
    {
     "data": {
      "text/plain": [
       "647"
      ]
     },
     "execution_count": 14,
     "metadata": {},
     "output_type": "execute_result"
    }
   ],
   "source": [
    "state_space = 1 + (2 + n_indicators) * stock_dimension\n",
    "state_space\n"
   ]
  },
  {
   "cell_type": "code",
   "execution_count": 15,
   "metadata": {},
   "outputs": [],
   "source": [
    "env_kwargs = {\n",
    "    \"hmax\": 1000,\n",
    "    \"initial_amount\": 10000000,\n",
    "    # \"initial_list\": [10000000] + [0 for i in range(stock_dimension)],\n",
    "    # buy and sell cost for each stock\n",
    "    \"num_stock_shares\": [0] * stock_dimension,\n",
    "    \"buy_cost_pct\": [0.001] * stock_dimension,\n",
    "    \"sell_cost_pct\": [0.001] * stock_dimension,\n",
    "    \"state_space\": state_space,\n",
    "    \"stock_dim\": stock_dimension,\n",
    "    \"tech_indicator_list\": indicators,\n",
    "    \"action_space\": stock_dimension,\n",
    "    \"reward_scaling\": 1e-4,\n",
    "}\n",
    "\n",
    "e_train_gym = StockTradingEnv(df=train, **env_kwargs)\n"
   ]
  },
  {
   "cell_type": "code",
   "execution_count": 16,
   "metadata": {},
   "outputs": [
    {
     "name": "stdout",
     "output_type": "stream",
     "text": [
      "<class 'stable_baselines3.common.vec_env.dummy_vec_env.DummyVecEnv'>\n"
     ]
    }
   ],
   "source": [
    "env_train, _ = e_train_gym.get_sb_env()\n",
    "print(type(env_train))\n"
   ]
  },
  {
   "cell_type": "markdown",
   "metadata": {},
   "source": [
    "### SAC"
   ]
  },
  {
   "cell_type": "code",
   "execution_count": 17,
   "metadata": {},
   "outputs": [
    {
     "name": "stdout",
     "output_type": "stream",
     "text": [
      "{'batch_size': 128, 'buffer_size': 100000, 'learning_rate': 0.0001, 'learning_starts': 100, 'ent_coef': 'auto_0.1'}\n",
      "Using cuda device\n"
     ]
    }
   ],
   "source": [
    "agent = DRLAgent(env=env_train)\n",
    "SAC_PARAMS = {\n",
    "    \"batch_size\": 128,\n",
    "    \"buffer_size\": 100000,\n",
    "    \"learning_rate\": 0.0001,\n",
    "    \"learning_starts\": 100,\n",
    "    \"ent_coef\": \"auto_0.1\",\n",
    "}\n",
    "\n",
    "model_sac = agent.get_model(\n",
    "    \"sac\", model_kwargs=SAC_PARAMS, tensorboard_log=config.TENSORBOARD_LOG_DIR\n",
    ")\n"
   ]
  },
  {
   "cell_type": "code",
   "execution_count": 18,
   "metadata": {},
   "outputs": [
    {
     "name": "stdout",
     "output_type": "stream",
     "text": [
      "Logging to tensorboard_log/sac_3\n"
     ]
    }
   ],
   "source": [
    "trained_sac = agent.train_model(\n",
    "    model=model_sac, tb_log_name=\"sac\", total_timesteps=10000\n",
    ")\n"
   ]
  },
  {
   "cell_type": "code",
   "execution_count": 19,
   "metadata": {},
   "outputs": [],
   "source": [
    "model = trained_sac"
   ]
  },
  {
   "cell_type": "markdown",
   "metadata": {},
   "source": [
    "### DDPG"
   ]
  },
  {
   "cell_type": "code",
   "execution_count": 22,
   "metadata": {},
   "outputs": [
    {
     "name": "stdout",
     "output_type": "stream",
     "text": [
      "{'batch_size': 128, 'buffer_size': 100000, 'learning_rate': 0.0001}\n",
      "Using cuda device\n"
     ]
    }
   ],
   "source": [
    "DDPG_PARAMS = {\"batch_size\": 128, \"buffer_size\": 100000, \"learning_rate\": 0.0001}\n",
    "\n",
    "agent = DRLAgent(env=env_train)\n",
    "# model_ddpg = agent.get_model(\n",
    "#     \"ddpg\", model_kwargs=DDPG_PARAMS, tensorboard_log=config.TENSORBOARD_LOG_DIR\n",
    "# )\n",
    "model_ddpg = agent.get_model(\"ddpg\", model_kwargs=DDPG_PARAMS)\n"
   ]
  },
  {
   "cell_type": "code",
   "execution_count": 23,
   "metadata": {},
   "outputs": [],
   "source": [
    "trained_ddpg = agent.train_model(\n",
    "    model=model_ddpg, tb_log_name=\"ddpg\", total_timesteps=1\n",
    ")\n"
   ]
  },
  {
   "cell_type": "code",
   "execution_count": 24,
   "metadata": {},
   "outputs": [],
   "source": [
    "model = trained_ddpg"
   ]
  },
  {
   "cell_type": "markdown",
   "metadata": {},
   "source": [
    "### PPO"
   ]
  },
  {
   "cell_type": "code",
   "execution_count": null,
   "metadata": {},
   "outputs": [],
   "source": [
    "agent = DRLAgent(env=env_train)\n",
    "PPO_PARAMS = {\n",
    "    \"n_steps\": 2048,\n",
    "    \"ent_coef\": 0.005,\n",
    "    \"learning_rate\": 0.0001,\n",
    "    \"batch_size\": 128,\n",
    "}\n",
    "model_ppo = agent.get_model(\n",
    "    \"ppo\", model_kwargs=PPO_PARAMS, tensorboard_log=config.TENSORBOARD_LOG_DIR\n",
    ")\n"
   ]
  },
  {
   "cell_type": "code",
   "execution_count": null,
   "metadata": {},
   "outputs": [],
   "source": [
    "trained_ppo = agent.train_model(\n",
    "    model=model_ppo, tb_log_name=\"ppo\", total_timesteps=100000\n",
    ")\n",
    "\n",
    "model = trained_ppo\n"
   ]
  },
  {
   "cell_type": "markdown",
   "metadata": {},
   "source": [
    "## Backtest"
   ]
  },
  {
   "cell_type": "code",
   "execution_count": 20,
   "metadata": {},
   "outputs": [],
   "source": [
    "e_trade_gym = StockTradingEnv(df=trade, **env_kwargs)\n"
   ]
  },
  {
   "cell_type": "code",
   "execution_count": 21,
   "metadata": {},
   "outputs": [
    {
     "name": "stdout",
     "output_type": "stream",
     "text": [
      "hit end!\n"
     ]
    }
   ],
   "source": [
    "df_account_value, df_actions = DRLAgent.DRL_prediction(\n",
    "    model=model, environment=e_trade_gym\n",
    ")\n"
   ]
  },
  {
   "cell_type": "code",
   "execution_count": 25,
   "metadata": {},
   "outputs": [
    {
     "data": {
      "text/plain": [
       "18330115.182306215"
      ]
     },
     "execution_count": 25,
     "metadata": {},
     "output_type": "execute_result"
    }
   ],
   "source": [
    "df_account_value.iloc[-1].account_value\n"
   ]
  },
  {
   "cell_type": "code",
   "execution_count": 25,
   "metadata": {},
   "outputs": [],
   "source": [
    "# df_account_value.to_csv(\"./sz50_without_fund.csv\")\n"
   ]
  },
  {
   "cell_type": "code",
   "execution_count": 26,
   "metadata": {},
   "outputs": [
    {
     "name": "stdout",
     "output_type": "stream",
     "text": [
      "==============Get Backtest Results===========\n"
     ]
    }
   ],
   "source": [
    "print(\"==============Get Backtest Results===========\")\n",
    "now = datetime.datetime.now().strftime(\"%Y%m%d-%Hh%M\")\n",
    "\n",
    "perf_stats_all = backtest_stats(account_value=df_account_value)\n",
    "perf_stats_all = pd.DataFrame(perf_stats_all)\n"
   ]
  },
  {
   "cell_type": "code",
   "execution_count": 27,
   "metadata": {},
   "outputs": [
    {
     "name": "stdout",
     "output_type": "stream",
     "text": [
      "login success!\n",
      "logout success!\n"
     ]
    }
   ],
   "source": [
    "from data_processor.ChinaStockDownloader import single_stock_query\n",
    "\n",
    "baseline_df = single_stock_query(\"2020-01-01\", \"2022-01-01\", \"sh.000016\")\n"
   ]
  },
  {
   "cell_type": "code",
   "execution_count": 28,
   "metadata": {},
   "outputs": [
    {
     "name": "stdout",
     "output_type": "stream",
     "text": [
      "==============Get Baseline Stats===========\n",
      "login success!\n",
      "logout success!\n"
     ]
    }
   ],
   "source": [
    "# baseline stats\n",
    "print(\"==============Get Baseline Stats===========\")\n",
    "baseline_df = single_stock_query(\"2020-01-01\", \"2022-01-01\", \"sh.000016\")\n",
    "baseline_df = baseline_df.apply(pd.to_numeric, errors=\"ignore\")\n",
    "stats = backtest_stats(baseline_df, value_col_name=\"close\")\n"
   ]
  },
  {
   "cell_type": "code",
   "execution_count": null,
   "metadata": {},
   "outputs": [],
   "source": [
    "test_ret = get_daily_return(df_account_value)\n",
    "base_ret = get_daily_return(baseline_df, \"close\")\n"
   ]
  },
  {
   "cell_type": "code",
   "execution_count": null,
   "metadata": {},
   "outputs": [],
   "source": [
    "print(\"==============Compare to SZ50===========\")\n",
    "%matplotlib inline\n",
    "\n",
    "import pyfolio"
   ]
  },
  {
   "cell_type": "code",
   "execution_count": null,
   "metadata": {},
   "outputs": [],
   "source": [
    "with_fund = pd.read_csv(\"./sz50_with_fund.csv\")\n",
    "without_fund = pd.read_csv(\"./sz50_without_fund.csv\")\n",
    "with_fund_ret = get_daily_return(with_fund)\n",
    "without_fund_ret = get_daily_return(without_fund)\n",
    "with_fund_ret.index = pd.DatetimeIndex(with_fund_ret.index.date)\n",
    "without_fund_ret.index = pd.DatetimeIndex(without_fund_ret.index.date)"
   ]
  },
  {
   "cell_type": "code",
   "execution_count": null,
   "metadata": {},
   "outputs": [],
   "source": [
    "test_ret.index = pd.DatetimeIndex(test_ret.index.date)\n",
    "base_ret.index = pd.DatetimeIndex(base_ret.index.date)\n"
   ]
  },
  {
   "cell_type": "code",
   "execution_count": null,
   "metadata": {},
   "outputs": [],
   "source": [
    "# import quantstats as qs\n",
    "\n",
    "# qs.reports.html(with_fund_ret, without_fund_ret)\n"
   ]
  },
  {
   "cell_type": "code",
   "execution_count": null,
   "metadata": {},
   "outputs": [],
   "source": [
    "pyfolio.create_full_tear_sheet(returns=test_ret, benchmark_rets=base_ret)\n"
   ]
  },
  {
   "cell_type": "code",
   "execution_count": null,
   "metadata": {},
   "outputs": [],
   "source": []
  }
 ],
 "metadata": {
  "interpreter": {
   "hash": "0cd912b5b8ef2e2cf6ba30a360471b623d2891ab42b88478be3d571482cb392e"
  },
  "kernelspec": {
   "display_name": "Python 3.7.11 ('finrl')",
   "language": "python",
   "name": "python3"
  },
  "language_info": {
   "codemirror_mode": {
    "name": "ipython",
    "version": 3
   },
   "file_extension": ".py",
   "mimetype": "text/x-python",
   "name": "python",
   "nbconvert_exporter": "python",
   "pygments_lexer": "ipython3",
   "version": "3.7.13"
  },
  "orig_nbformat": 4
 },
 "nbformat": 4,
 "nbformat_minor": 2
}
